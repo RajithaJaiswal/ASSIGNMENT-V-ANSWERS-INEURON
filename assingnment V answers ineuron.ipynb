{
 "cells": [
  {
   "cell_type": "markdown",
   "id": "2b075927",
   "metadata": {},
   "source": [
    "1. What does an empty dictionary's code look like?\n",
    "2. What is the value of a dictionary value with the key 'foo' and the value 42?\n",
    "3. What is the most significant distinction between a dictionary and a list?\n",
    "4. What happens if you try to access spam['foo'] if spam is {'bar': 100}?\n",
    "5. If a dictionary is stored in spam, what is the difference between the expressions 'cat' in spam and 'cat' in spam.keys()?\n",
    "6. If a dictionary is stored in spam, what is the difference between the expressions 'cat' in spam and 'cat' in spam.values()?\n",
    "7. What is a shortcut for the following code?\n",
    "if 'color' not in spam:\n",
    "spam['color'] = 'black'\n",
    "\n",
    "8. How do you \"pretty print\" dictionary values using which module and function?"
   ]
  },
  {
   "cell_type": "markdown",
   "id": "96062bcf",
   "metadata": {},
   "source": [
    "1 ans:Two curly brackets: {}"
   ]
  },
  {
   "cell_type": "markdown",
   "id": "4e26a880",
   "metadata": {},
   "source": [
    "2 ans:"
   ]
  },
  {
   "cell_type": "code",
   "execution_count": 1,
   "id": "f3fa6794",
   "metadata": {},
   "outputs": [],
   "source": [
    "d={'foo':42}"
   ]
  },
  {
   "cell_type": "code",
   "execution_count": 2,
   "id": "5f8958f2",
   "metadata": {},
   "outputs": [
    {
     "data": {
      "text/plain": [
       "{'foo': 42}"
      ]
     },
     "execution_count": 2,
     "metadata": {},
     "output_type": "execute_result"
    }
   ],
   "source": [
    "d"
   ]
  },
  {
   "cell_type": "markdown",
   "id": "6e8c3c12",
   "metadata": {},
   "source": [
    "3 ans:The items stored in a dictionary are unordered, while the items in a list are ordered."
   ]
  },
  {
   "cell_type": "markdown",
   "id": "e7eddbb7",
   "metadata": {},
   "source": [
    "4 ans:You get a KeyError error."
   ]
  },
  {
   "cell_type": "markdown",
   "id": "948379ca",
   "metadata": {},
   "source": [
    "5 ans:There is no difference. The in operator checks whether a value exists as a key in the dictionary."
   ]
  },
  {
   "cell_type": "markdown",
   "id": "84f30167",
   "metadata": {},
   "source": [
    "6 ans:'cat' in spam checks whether there is a 'cat' key in the dictionary, while 'cat' in spam.values() checks whether there is a value 'cat' for one of the keys in spam."
   ]
  },
  {
   "cell_type": "markdown",
   "id": "ad3c09c8",
   "metadata": {},
   "source": [
    "7 ans:spam.setdefault('color', 'black')"
   ]
  },
  {
   "cell_type": "markdown",
   "id": "465bddd2",
   "metadata": {},
   "source": [
    "8 ans:pprint.pprint()"
   ]
  }
 ],
 "metadata": {
  "kernelspec": {
   "display_name": "Python 3 (ipykernel)",
   "language": "python",
   "name": "python3"
  },
  "language_info": {
   "codemirror_mode": {
    "name": "ipython",
    "version": 3
   },
   "file_extension": ".py",
   "mimetype": "text/x-python",
   "name": "python",
   "nbconvert_exporter": "python",
   "pygments_lexer": "ipython3",
   "version": "3.9.12"
  }
 },
 "nbformat": 4,
 "nbformat_minor": 5
}
